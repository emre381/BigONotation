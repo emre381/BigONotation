{
 "cells": [
  {
   "cell_type": "code",
   "execution_count": null,
   "id": "19d9aed7-36c9-4319-ba97-48fb6f6b61f0",
   "metadata": {},
   "outputs": [],
   "source": [
    "# Big O Notation O()\n",
    "#  Time Complexity - SpaceComplexity \n"
   ]
  },
  {
   "cell_type": "code",
   "execution_count": 2,
   "id": "e1424be5-0ff1-41bf-af1f-a42a1444f24c",
   "metadata": {},
   "outputs": [],
   "source": [
    "def bigon(n):\n",
    "    for i in range(0,n):\n",
    "        print(i)"
   ]
  },
  {
   "cell_type": "code",
   "execution_count": 3,
   "id": "71cf9962-e449-4e15-a136-4d7efdf0e3a7",
   "metadata": {},
   "outputs": [
    {
     "name": "stdout",
     "output_type": "stream",
     "text": [
      "0\n",
      "1\n",
      "2\n",
      "3\n",
      "4\n",
      "5\n"
     ]
    }
   ],
   "source": [
    "bigon(6)"
   ]
  },
  {
   "cell_type": "code",
   "execution_count": 19,
   "id": "3e789128-f436-4502-80ce-5d56081b8630",
   "metadata": {},
   "outputs": [],
   "source": [
    "def bigon2(n):\n",
    "    for i in range(0,n):\n",
    "        for j in range(0,n):\n",
    "            print(i,j)\n",
    "        "
   ]
  },
  {
   "cell_type": "code",
   "execution_count": 20,
   "id": "deafc366-3905-4027-ba4d-c9ddbe35220d",
   "metadata": {},
   "outputs": [
    {
     "name": "stdout",
     "output_type": "stream",
     "text": [
      "0 0\n",
      "0 1\n",
      "0 2\n",
      "0 3\n",
      "0 4\n",
      "1 0\n",
      "1 1\n",
      "1 2\n",
      "1 3\n",
      "1 4\n",
      "2 0\n",
      "2 1\n",
      "2 2\n",
      "2 3\n",
      "2 4\n",
      "3 0\n",
      "3 1\n",
      "3 2\n",
      "3 3\n",
      "3 4\n",
      "4 0\n",
      "4 1\n",
      "4 2\n",
      "4 3\n",
      "4 4\n"
     ]
    }
   ],
   "source": [
    "bigon2(5)"
   ]
  },
  {
   "cell_type": "code",
   "execution_count": 21,
   "id": "3088a254-56e3-4458-900e-612d5f543cdf",
   "metadata": {},
   "outputs": [],
   "source": [
    "def bigon3(n):\n",
    "    for i in range(0,n):\n",
    "        for j in range(0,n):\n",
    "            for k in range(0,n):\n",
    "                print(i,j,k)"
   ]
  },
  {
   "cell_type": "code",
   "execution_count": 22,
   "id": "4a6dbc61-c0e3-47a2-aa0a-05c2633fdce3",
   "metadata": {},
   "outputs": [
    {
     "name": "stdout",
     "output_type": "stream",
     "text": [
      "0 0 0\n",
      "0 0 1\n",
      "0 0 2\n",
      "0 0 3\n",
      "0 0 4\n",
      "0 1 0\n",
      "0 1 1\n",
      "0 1 2\n",
      "0 1 3\n",
      "0 1 4\n",
      "0 2 0\n",
      "0 2 1\n",
      "0 2 2\n",
      "0 2 3\n",
      "0 2 4\n",
      "0 3 0\n",
      "0 3 1\n",
      "0 3 2\n",
      "0 3 3\n",
      "0 3 4\n",
      "0 4 0\n",
      "0 4 1\n",
      "0 4 2\n",
      "0 4 3\n",
      "0 4 4\n",
      "1 0 0\n",
      "1 0 1\n",
      "1 0 2\n",
      "1 0 3\n",
      "1 0 4\n",
      "1 1 0\n",
      "1 1 1\n",
      "1 1 2\n",
      "1 1 3\n",
      "1 1 4\n",
      "1 2 0\n",
      "1 2 1\n",
      "1 2 2\n",
      "1 2 3\n",
      "1 2 4\n",
      "1 3 0\n",
      "1 3 1\n",
      "1 3 2\n",
      "1 3 3\n",
      "1 3 4\n",
      "1 4 0\n",
      "1 4 1\n",
      "1 4 2\n",
      "1 4 3\n",
      "1 4 4\n",
      "2 0 0\n",
      "2 0 1\n",
      "2 0 2\n",
      "2 0 3\n",
      "2 0 4\n",
      "2 1 0\n",
      "2 1 1\n",
      "2 1 2\n",
      "2 1 3\n",
      "2 1 4\n",
      "2 2 0\n",
      "2 2 1\n",
      "2 2 2\n",
      "2 2 3\n",
      "2 2 4\n",
      "2 3 0\n",
      "2 3 1\n",
      "2 3 2\n",
      "2 3 3\n",
      "2 3 4\n",
      "2 4 0\n",
      "2 4 1\n",
      "2 4 2\n",
      "2 4 3\n",
      "2 4 4\n",
      "3 0 0\n",
      "3 0 1\n",
      "3 0 2\n",
      "3 0 3\n",
      "3 0 4\n",
      "3 1 0\n",
      "3 1 1\n",
      "3 1 2\n",
      "3 1 3\n",
      "3 1 4\n",
      "3 2 0\n",
      "3 2 1\n",
      "3 2 2\n",
      "3 2 3\n",
      "3 2 4\n",
      "3 3 0\n",
      "3 3 1\n",
      "3 3 2\n",
      "3 3 3\n",
      "3 3 4\n",
      "3 4 0\n",
      "3 4 1\n",
      "3 4 2\n",
      "3 4 3\n",
      "3 4 4\n",
      "4 0 0\n",
      "4 0 1\n",
      "4 0 2\n",
      "4 0 3\n",
      "4 0 4\n",
      "4 1 0\n",
      "4 1 1\n",
      "4 1 2\n",
      "4 1 3\n",
      "4 1 4\n",
      "4 2 0\n",
      "4 2 1\n",
      "4 2 2\n",
      "4 2 3\n",
      "4 2 4\n",
      "4 3 0\n",
      "4 3 1\n",
      "4 3 2\n",
      "4 3 3\n",
      "4 3 4\n",
      "4 4 0\n",
      "4 4 1\n",
      "4 4 2\n",
      "4 4 3\n",
      "4 4 4\n"
     ]
    }
   ],
   "source": [
    "bigon3(5)"
   ]
  },
  {
   "cell_type": "code",
   "execution_count": 23,
   "id": "4fabe1e8-5d0b-4778-ae25-fdf3e4049129",
   "metadata": {},
   "outputs": [],
   "source": [
    "import math\n",
    "def logn(n):\n",
    "    while n>1:\n",
    "        n=math.floor(n/2)\n",
    "        print(n)"
   ]
  },
  {
   "cell_type": "code",
   "execution_count": 25,
   "id": "c7b9afa5-137c-44eb-80a8-aed538f03001",
   "metadata": {},
   "outputs": [
    {
     "name": "stdout",
     "output_type": "stream",
     "text": [
      "16\n",
      "8\n",
      "4\n",
      "2\n",
      "1\n"
     ]
    }
   ],
   "source": [
    "logn(32)"
   ]
  },
  {
   "cell_type": "code",
   "execution_count": 28,
   "id": "e4f13219-9d67-48e7-a490-1968128fe1f9",
   "metadata": {},
   "outputs": [],
   "source": [
    "def nlogn(n):\n",
    "    lim=n\n",
    "    while n>1:\n",
    "        n=math.floor(n/2)\n",
    "        for i in range(1,lim):\n",
    "            print(i)"
   ]
  },
  {
   "cell_type": "code",
   "execution_count": 29,
   "id": "5adaafed-96d3-4da1-a7c8-1ee5a9a10d36",
   "metadata": {},
   "outputs": [
    {
     "name": "stdout",
     "output_type": "stream",
     "text": [
      "1\n",
      "2\n",
      "3\n",
      "4\n",
      "5\n",
      "6\n",
      "7\n",
      "8\n",
      "9\n",
      "10\n",
      "11\n",
      "12\n",
      "13\n",
      "14\n",
      "15\n",
      "1\n",
      "2\n",
      "3\n",
      "4\n",
      "5\n",
      "6\n",
      "7\n",
      "8\n",
      "9\n",
      "10\n",
      "11\n",
      "12\n",
      "13\n",
      "14\n",
      "15\n",
      "1\n",
      "2\n",
      "3\n",
      "4\n",
      "5\n",
      "6\n",
      "7\n",
      "8\n",
      "9\n",
      "10\n",
      "11\n",
      "12\n",
      "13\n",
      "14\n",
      "15\n",
      "1\n",
      "2\n",
      "3\n",
      "4\n",
      "5\n",
      "6\n",
      "7\n",
      "8\n",
      "9\n",
      "10\n",
      "11\n",
      "12\n",
      "13\n",
      "14\n",
      "15\n"
     ]
    }
   ],
   "source": [
    "nlogn(16)"
   ]
  },
  {
   "cell_type": "code",
   "execution_count": null,
   "id": "057c794e-7b40-46dc-8b38-7c03eaf1a8d9",
   "metadata": {},
   "outputs": [],
   "source": [
    "def nfactorial(n):\n",
    "    if n==0:\n",
    "        print(\"1\")\n",
    "        return\n",
    "    else:\n",
    "        for i in range(0,n):\n",
    "            print(i)\n",
    "            nfactorial(n-1) #recursive"
   ]
  }
 ],
 "metadata": {
  "kernelspec": {
   "display_name": "Python 3 (ipykernel)",
   "language": "python",
   "name": "python3"
  },
  "language_info": {
   "codemirror_mode": {
    "name": "ipython",
    "version": 3
   },
   "file_extension": ".py",
   "mimetype": "text/x-python",
   "name": "python",
   "nbconvert_exporter": "python",
   "pygments_lexer": "ipython3",
   "version": "3.12.4"
  }
 },
 "nbformat": 4,
 "nbformat_minor": 5
}
